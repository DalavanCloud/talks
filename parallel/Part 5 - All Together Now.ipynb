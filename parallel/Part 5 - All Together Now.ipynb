{
 "metadata": {
  "name": "Part 5 - All Together Now"
 },
 "nbformat": 3,
 "nbformat_minor": 0,
 "worksheets": [
  {
   "cells": [
    {
     "cell_type": "heading",
     "level": 1,
     "metadata": {},
     "source": [
      "Using DirectView and LoadBalancedView together"
     ]
    },
    {
     "cell_type": "markdown",
     "metadata": {},
     "source": [
      "We mentioned that you can use any number of views of any sort simultaneously.\n",
      "\n",
      "The most common model for doing this is to use a DirectView to initialise the engine namespaces\n",
      "(either defining functions and variables, or loading datasets) with a DirectView,\n",
      "and then submitting work as tasks via the LoadBalancedView.\n",
      "\n",
      "For this example, we are going to define a few functions for fetching data and getting a simple summary on some stocks,\n",
      "then we are going to run those functions on a series of stocks in a load-balanced way."
     ]
    },
    {
     "cell_type": "markdown",
     "metadata": {},
     "source": [
      "The usual boilerplate:"
     ]
    },
    {
     "cell_type": "code",
     "collapsed": false,
     "input": [
      "%pylab inline"
     ],
     "language": "python",
     "metadata": {},
     "outputs": [
      {
       "output_type": "stream",
       "stream": "stdout",
       "text": [
        "\n",
        "Welcome to pylab, a matplotlib-based Python environment [backend: module://IPython.zmq.pylab.backend_inline].\n",
        "For more information, type 'help(pylab)'.\n"
       ]
      }
     ],
     "prompt_number": 1
    },
    {
     "cell_type": "code",
     "collapsed": false,
     "input": [
      "from IPython import parallel\n",
      "\n",
      "rc = parallel.Client()\n",
      "dv = rc[:]\n",
      "lbv = rc.load_balanced_view()"
     ],
     "language": "python",
     "metadata": {},
     "outputs": [],
     "prompt_number": 2
    },
    {
     "cell_type": "markdown",
     "metadata": {},
     "source": [
      "Use matplotlib to fetch data from Yahoo"
     ]
    },
    {
     "cell_type": "code",
     "collapsed": false,
     "input": [
      "%%px\n",
      "\n",
      "import urllib2\n",
      "from io import BytesIO\n",
      "\n",
      "from matplotlib import finance\n",
      "\n",
      "def get_yahoo_data(name=None, start=None, end=None):\n",
      "    \"\"\"return historical stock data from yahoo as a recarray.\"\"\"\n",
      "    fp = finance.fetch_historical_yahoo(name, start, end)\n",
      "    return finance.parse_yahoo_historical(fp, asobject=True)\n",
      "\n",
      "def relative_close(records):\n",
      "    \"\"\"return the reative change in closing price over the interval\"\"\"\n",
      "    \n",
      "    close = records['aclose']\n",
      "    return (close[-1] - close[0]) / close[0]\n",
      "\n"
     ],
     "language": "python",
     "metadata": {},
     "outputs": [],
     "prompt_number": 3
    },
    {
     "cell_type": "markdown",
     "metadata": {},
     "source": [
      "Setup the timestamps.  We want the past year"
     ]
    },
    {
     "cell_type": "code",
     "collapsed": false,
     "input": [
      "%%px\n",
      "import datetime\n",
      "end = datetime.datetime.now()\n",
      "start = end - datetime.timedelta(days=365)"
     ],
     "language": "python",
     "metadata": {},
     "outputs": [],
     "prompt_number": 4
    },
    {
     "cell_type": "markdown",
     "metadata": {},
     "source": [
      "Our ticker of stocks to check"
     ]
    },
    {
     "cell_type": "code",
     "collapsed": false,
     "input": [
      "ticker = ['AAPL', 'GOOG', 'MSFT', 'RIMM', 'NOK', 'ORCL', 'AMZN', 'INTC', 'ATVI', 'EA', 'NFLX']"
     ],
     "language": "python",
     "metadata": {},
     "outputs": [],
     "prompt_number": 5
    },
    {
     "cell_type": "markdown",
     "metadata": {},
     "source": [
      "And map a simple function (that depends on the code we have defined on the engines)\n",
      "onto our ticker."
     ]
    },
    {
     "cell_type": "code",
     "collapsed": false,
     "input": [
      "def year_over_year(name):\n",
      "    \"\"\"fetch data, and return year-over-year change (relative to first close)\n",
      " \n",
      "    in percent\n",
      "    \"\"\"\n",
      "    stock = get_yahoo_data(name, start, end)\n",
      "    return relative_close(stock) * 100\n",
      "\n",
      "amr = lbv.map(year_over_year, ticker)\n",
      "amr"
     ],
     "language": "python",
     "metadata": {},
     "outputs": [
      {
       "output_type": "pyout",
       "prompt_number": 6,
       "text": [
        "<AsyncMapResult: year_over_year>"
       ]
      }
     ],
     "prompt_number": 6
    },
    {
     "cell_type": "code",
     "collapsed": false,
     "input": [
      "fig, ax = subplots()\n",
      "fig.set_figwidth(10)\n",
      "ax.bar(range(len(amr)), amr)\n",
      "ax.set_xticks(np.arange(len(amr))+0.4)\n",
      "ax.set_xticklabels(ticker);\n",
      "ax.axhline(0, c='k')"
     ],
     "language": "python",
     "metadata": {},
     "outputs": [
      {
       "output_type": "pyout",
       "prompt_number": 7,
       "text": [
        "<matplotlib.lines.Line2D at 0x109a6b3d0>"
       ]
      },
      {
       "output_type": "display_data",
       "png": "[encoded data removed]"
      }
     ],
     "prompt_number": 7
    },
    {
     "cell_type": "markdown",
     "metadata": {},
     "source": [
      "And now we can feel sad for RIM, Nokia, and Netflix."
     ]
    }
   ],
   "metadata": {}
  }
 ]
}