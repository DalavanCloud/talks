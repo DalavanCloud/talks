{
 "metadata": {
  "name": "Notebook Overview"
 },
 "nbformat": 3,
 "nbformat_minor": 0,
 "worksheets": [
  {
   "cells": [
    {
     "cell_type": "markdown",
     "metadata": {},
     "source": [
      "[Edit presentation style here]\n",
      "<style>.rendered_html {font-size: 150%;}</style>"
     ]
    },
    {
     "cell_type": "markdown",
     "metadata": {},
     "source": [
      "<img src=\"/files/logo.png\" />"
     ]
    },
    {
     "cell_type": "heading",
     "level": 1,
     "metadata": {},
     "source": [
      "An Overview of the IPython Notebook"
     ]
    },
    {
     "cell_type": "markdown",
     "metadata": {},
     "source": [
      "The IPython development team"
     ]
    },
    {
     "cell_type": "heading",
     "level": 2,
     "metadata": {},
     "source": [
      "Motivation"
     ]
    },
    {
     "cell_type": "markdown",
     "metadata": {},
     "source": [
      "Scientific and technical computing is about more than just code and data.  \n",
      "\n",
      "It is about telling **stories** using code and data.\n",
      "\n",
      "These stories include other types of content:\n",
      "\n",
      "* Narrative text\n",
      "* Images and video\n",
      "* Equations\n",
      "* Plots and other visualizations"
     ]
    },
    {
     "cell_type": "markdown",
     "metadata": {},
     "source": [
      "We need to tell these stories in different contexts:\n",
      "\n",
      "* In collaboration with colleagues\n",
      "* In written publications\n",
      "* In talks/presentations\n",
      "* In the classroom\n",
      "* In meetings\n",
      "* In boardrooms\n",
      "* On the internet"
     ]
    },
    {
     "cell_type": "heading",
     "level": 2,
     "metadata": {},
     "source": [
      "What is the IPython Notebook?"
     ]
    },
    {
     "cell_type": "markdown",
     "metadata": {},
     "source": [
      "A tool for telling stories with computations that are:\n",
      "\n",
      "* Interactive\n",
      "* Exploratory\n",
      "* Collaborative\n",
      "* Reproducible"
     ]
    },
    {
     "cell_type": "heading",
     "level": 3,
     "metadata": {},
     "source": [
      "An open, JSON based document format"
     ]
    },
    {
     "cell_type": "code",
     "collapsed": false,
     "input": [
      "from IPython.nbformat import current\n",
      "with open('Notebook Overview.ipynb') as f:\n",
      "    nb = current.read(f,'json')"
     ],
     "language": "python",
     "metadata": {},
     "outputs": [],
     "prompt_number": 1
    },
    {
     "cell_type": "code",
     "collapsed": false,
     "input": [
      "nb.worksheets[0].cells[0:5]"
     ],
     "language": "python",
     "metadata": {},
     "outputs": [
      {
       "output_type": "pyout",
       "prompt_number": 4,
       "text": [
        "[{u'cell_type': u'markdown',\n",
        "  u'metadata': {},\n",
        "  u'source': u'Style Cell\\n<style>.rendered_html {font-size: 150%;}</style>'},\n",
        " {u'cell_type': u'heading',\n",
        "  u'level': 1,\n",
        "  u'metadata': {},\n",
        "  u'source': u'An Overview of the IPython Notebook'},\n",
        " {u'cell_type': u'markdown',\n",
        "  u'metadata': {},\n",
        "  u'source': u'The IPython development team'},\n",
        " {u'cell_type': u'heading',\n",
        "  u'level': 2,\n",
        "  u'metadata': {},\n",
        "  u'source': u'Motivation'},\n",
        " {u'cell_type': u'markdown',\n",
        "  u'metadata': {},\n",
        "  u'source': u'Scientific and technical computing is about more than just code and data.  It includes:\\n\\n* Narrative text\\n* Images and video\\n* Equations\\n* Plots and other visualizations\\n\\nProblem: where do we put this content\\n\\nThese are all part of the **story** we are all trying to tell with our code and data.\\n'}]"
       ]
      }
     ],
     "prompt_number": 4
    },
    {
     "cell_type": "markdown",
     "metadata": {},
     "source": [
      "These Notebook documents:\n",
      "\n",
      "* Are stored as files in your local directory\n",
      "* Can store:\n",
      "    - Code\n",
      "    - Text (Markdown)\n",
      "    - Equations (LaTeX)\n",
      "    - Images\n",
      "    - Links to video\n",
      "    - HTML\n",
      "* Can be version controlled.\n",
      "    - Change 1 line of code, get a 1 line diff.\n",
      "* Can be viewed by anyone online without IPython installed (<http://nbviewer.ipython.org/>)\n",
      "* Can be exported to HTML, Markdown, reStructured Text, LaTeX (WIP)."
     ]
    },
    {
     "cell_type": "heading",
     "level": 3,
     "metadata": {},
     "source": [
      "A web-based user interface for running code"
     ]
    },
    {
     "cell_type": "markdown",
     "metadata": {},
     "source": [
      "We try to make writing code pleasant:\n",
      "\n",
      "* Tab completion\n",
      "* Integrated help\n",
      "* Syntax highlighting\n",
      "* Interactive shorthands (aliases, magics)"
     ]
    },
    {
     "cell_type": "code",
     "collapsed": false,
     "input": [
      "%pylab inline"
     ],
     "language": "python",
     "metadata": {},
     "outputs": [
      {
       "output_type": "stream",
       "stream": "stdout",
       "text": [
        "\n",
        "Welcome to pylab, a matplotlib-based Python environment [backend: module://IPython.zmq.pylab.backend_inline].\n",
        "For more information, type 'help(pylab)'.\n"
       ]
      }
     ],
     "prompt_number": 6
    },
    {
     "cell_type": "code",
     "collapsed": false,
     "input": [
      "plot(rand(100))"
     ],
     "language": "python",
     "metadata": {},
     "outputs": [
      {
       "output_type": "pyout",
       "prompt_number": 8,
       "text": [
        "[<matplotlib.lines.Line2D at 0x10b988b90>]"
       ]
      },
      {
       "output_type": "display_data",
       "png": "[encoded data removed]",
       "text": [
        "<matplotlib.figure.Figure at 0x10e4c36d0>"
       ]
      }
     ],
     "prompt_number": 8
    },
    {
     "cell_type": "markdown",
     "metadata": {},
     "source": [
      "Not just Python code though! Though cell magics (`%%`) the Notebook supports running code in other languages:\n",
      "\n",
      "* R\n",
      "* Octave\n",
      "* Cython\n",
      "* Bash\n",
      "* Perl\n",
      "* Ruby\n",
      "* etc."
     ]
    },
    {
     "cell_type": "code",
     "collapsed": false,
     "input": [
      "%%bash\n",
      "echo \"hi there\""
     ],
     "language": "python",
     "metadata": {},
     "outputs": [
      {
       "output_type": "stream",
       "stream": "stdout",
       "text": [
        "hi there\n"
       ]
      }
     ],
     "prompt_number": 10
    },
    {
     "cell_type": "heading",
     "level": 2,
     "metadata": {},
     "source": [
      "Installation"
     ]
    },
    {
     "cell_type": "markdown",
     "metadata": {},
     "source": [
      "Requires:\n",
      "\n",
      "* Tornado\n",
      "* ZeroMQ/PyZMQ\n",
      "* Recent Chrome, Firefox, Safari (WebSockets, Flexible Box Model)\n",
      "* Matplotlib for plotting\n",
      "* Works out of the box on EPD, Anaconda\n",
      "* Optional LaTeX math support using MathJax\n",
      "    - Load from CDN\n",
      "    - Install locally (recommended)\n",
      "\n",
      "            from IPython.external.mathjax import install_mathjax\n",
      "            install_mathjax()"
     ]
    },
    {
     "cell_type": "heading",
     "level": 2,
     "metadata": {},
     "source": [
      "The Notebook server"
     ]
    },
    {
     "cell_type": "markdown",
     "metadata": {},
     "source": [
      "* Currently a single-user web application designed to be run on your local machine\n",
      "* Can be password protected and encrypted.  See our [docs](http://ipython.org/ipython-doc/dev/interactive/htmlnotebook.html#running-a-public-notebook-server).\n",
      "* cd to a directory where you have Notebooks and start the server.\n",
      "\n",
      "        $ cd my_notebook_dir\n",
      "$ ipython notebook\n",
      "\n",
      "* Use the `--script` tag to save `.py` versions of your Notebooks\n",
      "* Use the `--no-browser` flag to not start a browser automatically\n"
     ]
    },
    {
     "cell_type": "heading",
     "level": 2,
     "metadata": {},
     "source": [
      "The future"
     ]
    },
    {
     "cell_type": "markdown",
     "metadata": {},
     "source": [
      "* Full multiuser support\n",
      "* Multiple directory support\n",
      "* Interactive widgets\n",
      "* Improved notebook export support\n",
      "* Slide show mode\n",
      "* Editing of other file types"
     ]
    }
   ],
   "metadata": {}
  }
 ]
}